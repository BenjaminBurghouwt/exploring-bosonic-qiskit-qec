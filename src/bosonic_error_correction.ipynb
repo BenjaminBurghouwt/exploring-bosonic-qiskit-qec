{
 "cells": [
  {
   "metadata": {},
   "cell_type": "markdown",
   "source": "# Work in progress",
   "id": "1d7b1a52c80bbca6"
  },
  {
   "metadata": {
    "ExecuteTime": {
     "end_time": "2024-06-11T19:49:02.887254Z",
     "start_time": "2024-06-11T19:49:02.882358Z"
    }
   },
   "cell_type": "code",
   "source": [
    "import c2qa\n",
    "import numpy as np\n",
    "from qiskit import ClassicalRegister, visualization, AncillaRegister\n",
    "from qiskit.quantum_info.operators.predicates import is_unitary_matrix\n",
    "from math import pi"
   ],
   "id": "232481a2ecffb5d2",
   "outputs": [],
   "execution_count": 83
  },
  {
   "metadata": {},
   "cell_type": "markdown",
   "source": [
    "# Error Correction with the Binomial 'Kitten' Code\n",
    "\n",
    "In the context of bosonic systems, photon loss is a significant source of errors. The binomial 'kitten' code is a quantum error correction code designed to protect against such errors by encoding logical qubit information into bosonic qumodes.\n",
    "\n",
    "This photon loss error occurs when photons 'leak' out of the system, leading to a loss of quantum information. The rate of photon loss is typically proportional to the number of photons in the system. \n",
    "\n",
    "Binomial codes are a family of quantum error-correcting codes that are particularly well-suited for correcting photon loss errors. They encode logical qubits into superpositions of Fock states (states with a defined number of photons). The simplest binomial code is the 'kitten' code, which can detect and correct single-photon loss errors. Multiple errors will result in a logical error.\n",
    "\n",
    "In the 'kitten' code, the logical qubit states are defined as superpositions of Fock states with specific properties. For the 'kitten' code, the logical states are:\n",
    "\n",
    "\\begin{align*}\n",
    "|0_L\\rangle &= \\frac{1}{\\sqrt{2}} (|0\\rangle + |4\\rangle) \\\\\n",
    "|1_L\\rangle &= |2\\rangle \\\\\n",
    "\\end{align*}\n",
    "\n",
    "These states have several important properties:\n",
    " - **Photon Number Parity**: Both logical states have even photon number parity. This means that single-photon loss errors, which change the photon number by one, will map these states onto odd parity Fock states.\n",
    " - **Error Detection**: By measuring the photon number parity (whether the photon number is even or odd), we can detect the occurrence of a single-photon loss error without collapsing the logical state.\n",
    " - **Logical Information Protection**: The logical information is distributed across multiple Fock states, providing redundancy that helps protect against errors.\n",
    "\n",
    "For a more in depth explanation on the maths used in the binomial kitten code visit the [official bosonic kitten code example](https://github.com/C2QA/bosonic-qiskit/blob/main/tutorials/bosonic-kitten-code/bosonic-kitten-code.ipynb).\n",
    "\n",
    "<br> <br>\n",
    "\n",
    "## Implementing Photon Loss\n",
    "\n",
    "We use the class PhotonLossNoisePass() to simulate photon loss error during the execution of our quantum circuit. We can choose a photon loss rate and will go with a rate of 0.5 per millisecond. This corresponds to a lifetime of 2 ms, which is the average amount of time a photon will “survive” in the qumode. To see photon loss in action we need to delay our circuit so the error has a higher change to occur. By applying a delay of 1 ms the effects of photon loss will be clearly evident. \n",
    "\n",
    "To show the effects we will initialise the circuit in Fock state |7⟩. This is the highest Fock state in a system with 3 qubits per qumode (23=8, starting at |0⟩). The circuit will look as follows: \n",
    "\n",
    "![Photon loss circuit](images/PhotonNoiceLossCircuit.png)\n",
    "\n",
    "The array in the initialisation gate means the first 7 states ($|0\\rangle-|6\\rangle$) have a 0% change of existing and the $|7\\rangle$ state a 100% change. After the delay the final state is measured into three classical bits."
   ],
   "id": "27f1073213372431"
  },
  {
   "metadata": {
    "ExecuteTime": {
     "end_time": "2024-06-10T11:08:13.295590Z",
     "start_time": "2024-06-10T11:08:12.824893Z"
    }
   },
   "cell_type": "code",
   "source": [
    "num_qumodes = 1\n",
    "num_qubits_per_qumode = 3\n",
    "\n",
    "photon_loss_rate = 0.5 # loss rate in units of 1/ms\n",
    "circuit_delay = 1 # large enough for on average 2 photons to be lost\n",
    "time_unit = \"ms\"\n",
    "\n",
    "qmr = c2qa.QumodeRegister(num_qumodes, num_qubits_per_qumode)\n",
    "cr = ClassicalRegister(num_qumodes * num_qubits_per_qumode)\n",
    "circuit = c2qa.CVCircuit(qmr, cr)\n",
    "\n",
    "# to illustrate photon loss, initialise the qumode in Fock state |7>\n",
    "circuit.cv_initialize(7, qmr[0])\n",
    "\n",
    "# apply a delay to illustrate the effect of photon loss\n",
    "circuit.cv_delay(duration=circuit_delay, unit=time_unit, qumode=qmr[0])\n",
    "\n",
    "noise_pass = c2qa.kraus.PhotonLossNoisePass(photon_loss_rates=photon_loss_rate, circuit=circuit, time_unit=time_unit)\n",
    "\n",
    "circuit.cv_measure(qmr[0], cr)\n",
    "\n",
    "# circuit.draw('mpl')\n",
    "\n",
    "counts = c2qa.util.simulate(circuit, noise_passes=noise_pass)[2] # Returns a tuple of state, result, fock_counts\n",
    "\n",
    "visualization.plot_histogram(counts)"
   ],
   "id": "14eec0a8e86eee06",
   "outputs": [
    {
     "name": "stderr",
     "output_type": "stream",
     "text": [
      "/Users/benjamin/Code Projects/HvA/exploring-bosonic-qiskit-qec/c2qa/kraus.py:185: UserWarning: PhotonLossNoisePass ignores instructions without duration, you may need to schedule circuit in advance.\n",
      "  warnings.warn(\n"
     ]
    },
    {
     "data": {
      "text/plain": [
       "<Figure size 640x480 with 1 Axes>"
      ],
      "image/png": "[encoded data removed]"
     },
     "execution_count": 2,
     "metadata": {},
     "output_type": "execute_result"
    }
   ],
   "execution_count": 2
  },
  {
   "metadata": {},
   "cell_type": "markdown",
   "source": [
    "As expected after 1024 simulation shots (default for `util.simulate()`) we see a distribution of Fock states (photon numbers).\n",
    "\n",
    "<br> <br>\n",
    "\n",
    "# Error Detection"
   ],
   "id": "f3af03856419079"
  },
  {
   "metadata": {
    "ExecuteTime": {
     "end_time": "2024-06-10T11:08:57.213512Z",
     "start_time": "2024-06-10T11:08:57.184814Z"
    }
   },
   "cell_type": "code",
   "source": [
    "# Create a new circuit with 1 qumode, 1 ancilla qubit, and 1 classical register for ancilla readout.\n",
    "qmr = c2qa.QumodeRegister(num_qumodes, num_qubits_per_qumode)\n",
    "anc = AncillaRegister(1)\n",
    "cr = ClassicalRegister(1)\n",
    "circuit = c2qa.CVCircuit(qmr, anc, cr)\n",
    "\n",
    "circuit.initialize([1, 0], anc[0]) # Initialise ancilla qubit in |0> (even) state\n",
    "\n",
    "# Initialise qumode in either odd parity or even parity Fock state\n",
    "# circuit.cv_initialize(2, qmr) # |2> (even) Fock state\n",
    "circuit.cv_initialize(3, qmr) # |3> (odd) Fock state\n",
    "\n",
    "circuit.h(anc)\n",
    "\n",
    "circuit.cv_c_r(pi/2, qmr[0], anc)\n",
    "circuit.cv_r(-pi/2, qmr[0])\n",
    "\n",
    "circuit.h(anc)\n",
    "circuit.cv_measure(anc, cr)\n",
    "\n",
    "counts = c2qa.util.simulate(circuit)[2]\n",
    "\n",
    "# Measurement will return 0 for even parity and 1 for odd parity\n",
    "print(counts)"
   ],
   "id": "64a86705cbcfb9e9",
   "outputs": [
    {
     "name": "stdout",
     "output_type": "stream",
     "text": [
      "{'1': 1024}\n"
     ]
    },
    {
     "name": "stderr",
     "output_type": "stream",
     "text": [
      "/Users/benjamin/Code Projects/HvA/exploring-bosonic-qiskit-qec/.venv/lib/python3.12/site-packages/scipy/sparse/_index.py:108: SparseEfficiencyWarning: Changing the sparsity structure of a csc_matrix is expensive. lil_matrix is more efficient.\n",
      "  self._set_intXint(row, col, x.flat[0])\n"
     ]
    }
   ],
   "execution_count": 3
  },
  {
   "metadata": {},
   "cell_type": "markdown",
   "source": "### bla",
   "id": "311085198113c518"
  },
  {
   "metadata": {
    "ExecuteTime": {
     "end_time": "2024-06-10T11:08:59.032643Z",
     "start_time": "2024-06-10T11:08:59.026754Z"
    }
   },
   "cell_type": "code",
   "source": [
    "empty = np.zeros((2**num_qubits_per_qumode, 2**num_qubits_per_qumode))\n",
    "\n",
    "# map logical |1> photon loss (fock state |1>) back to logical state |1>. (where fock_input = |1>, and fock_output = |2>)\n",
    "u_odd = c2qa.util.fockmap(matrix=empty, fock_input=[1], fock_output=[2])\n",
    "\n",
    "# map logical |0> photon loss (fock state |3>) back to logical state |0> ((|0> + |4>)/sqrt(2))\n",
    "u_odd = c2qa.util.fockmap(matrix=u_odd, fock_input=[3, 3], fock_output=[0, 4], amplitude=[1/np.sqrt(2), 1/np.sqrt(2)]) \n",
    "\n",
    "# satisfy unitary condition\n",
    "u_odd = c2qa.util.fockmap(u_odd, [5, 6, 7], [5, 6, 7])\n",
    "u_odd = c2qa.util.fockmap(u_odd, [2, 0], [3, 1])\n",
    "u_odd = c2qa.util.fockmap(u_odd, [4, 4], [0, 4], 1/np.sqrt(2) * np.array([1, -1]))\n",
    "\n",
    "assert(is_unitary_matrix(u_odd))\n",
    "\n",
    "def u_even(kt):\n",
    "    # map logical |1> photon loss (fock state |2>) back to logical state |1>\n",
    "    u_even = c2qa.util.fockmap(matrix=empty, fock_input=[2], fock_output=[2])\n",
    "\n",
    "    # map logical |0> photon loss (fock state |0> or |4>) back to logical state |0> \n",
    "    # (fock_input = |0>, fock_output = (|0> + |4>) * amplitude. fock_input = |4>, fock_output = (|0> + |4>) * amplitude)\n",
    "    u_even = c2qa.util.fockmap(matrix=u_even, fock_input=[0, 0, 4, 4], fock_output=[0, 4, 0, 4], amplitude=(1/np.sqrt(1 + kt**2) * np.array([1, kt, -kt, 1])))\n",
    "\n",
    "    # satisfy unitary condition\n",
    "    u_even = c2qa.util.fockmap(u_even, [1, 3, 5, 6, 7], [1, 3, 5, 6, 7]) \n",
    "\n",
    "    assert(is_unitary_matrix(u_even))\n",
    "    return u_even"
   ],
   "id": "65d306a0bfda6179",
   "outputs": [],
   "execution_count": 4
  },
  {
   "metadata": {},
   "cell_type": "markdown",
   "source": "### bla",
   "id": "b109e5542dd61ec4"
  },
  {
   "metadata": {
    "ExecuteTime": {
     "end_time": "2024-06-10T11:09:00.684745Z",
     "start_time": "2024-06-10T11:09:00.664682Z"
    }
   },
   "cell_type": "code",
   "source": [
    "qmr = c2qa.QumodeRegister(num_qumodes, num_qubits_per_qumode)\n",
    "cr = ClassicalRegister(num_qumodes * num_qubits_per_qumode)\n",
    "circuit = c2qa.CVCircuit(qmr, cr)\n",
    "\n",
    "# initialise qumode in |1_L> error state (|1>)\n",
    "circuit.cv_initialize([0, 1], qmr) # (0 * |0> + 1 * |1>) = |1>\n",
    "\n",
    "# append the u_odd matrix to circuit and measure\n",
    "circuit.cv_gate_from_matrix(u_odd, qmr[0])\n",
    "circuit.cv_measure(qmr[0], cr)\n",
    "\n",
    "counts = c2qa.util.simulate(circuit)[2]\n",
    "\n",
    "# We measure |2> Fock state, demonstrating recovery of the logical |1> state\n",
    "print(counts)"
   ],
   "id": "d588c4876c554fb1",
   "outputs": [
    {
     "name": "stdout",
     "output_type": "stream",
     "text": [
      "{'2': 1024}\n"
     ]
    }
   ],
   "execution_count": 5
  },
  {
   "metadata": {},
   "cell_type": "markdown",
   "source": "# -this-",
   "id": "1438a2fdd586b578"
  },
  {
   "metadata": {
    "ExecuteTime": {
     "end_time": "2024-06-11T14:28:25.401205Z",
     "start_time": "2024-06-11T14:28:24.626047Z"
    }
   },
   "cell_type": "code",
   "source": [
    "num_qumodes = 1\n",
    "num_qubits_per_qumode = 3\n",
    "\n",
    "photon_loss_rate = 0.75 # loss rate in units of 1/ms\n",
    "circuit_delay = 0.5\n",
    "time_unit = \"ms\"\n",
    "\n",
    "# create circuit\n",
    "qmr = c2qa.QumodeRegister(num_qumodes, num_qubits_per_qumode)\n",
    "anc = AncillaRegister(1)\n",
    "cr = ClassicalRegister(num_qumodes * num_qubits_per_qumode + 1)\n",
    "circuit = c2qa.CVCircuit(qmr, anc, cr)\n",
    "\n",
    "\n",
    "def do_error_correction(circuit):\n",
    "    # photon parity measurement\n",
    "    circuit.h(anc[0])\n",
    "    circuit.cv_c_r(pi/2, qmr[0], anc[0])\n",
    "    \n",
    "    circuit.cv_r(-pi/2, qmr[0])\n",
    "    \n",
    "    circuit.h(anc[0])\n",
    "    circuit.measure(anc[0], cr[0])\n",
    "            \n",
    "    kt_dur = circuit_delay # time since previous error correction\n",
    "    kt = photon_loss_rate * (kt_dur + 0.01)\n",
    "            \n",
    "    with circuit.if_test((cr[0], 1), label='Recovery operator') as else_:\n",
    "        circuit.cv_gate_from_matrix(u_odd, qmr[0], duration=0.1, unit=\"ns\")\n",
    "        circuit.reset(anc[0])\n",
    "    with else_:\n",
    "        circuit.cv_gate_from_matrix(u_even(kt), qmr[0], duration=0.1, unit=\"ns\")\n",
    "    \n",
    "\n",
    "# initialise ancilla qubit in even |0> or odd |1> state\n",
    "circuit.initialize(0, anc[0]) \n",
    "# initialise qumode in Fock state\n",
    "circuit.cv_initialize(2, qmr[0])\n",
    "\n",
    "# apply a delay to illustrate the effect of photon loss\n",
    "circuit.cv_delay(duration=circuit_delay, unit=time_unit, qumode=qmr[0])\n",
    "\n",
    "# apply error correction\n",
    "do_error_correction(circuit)\n",
    "\n",
    "noise_pass = c2qa.kraus.PhotonLossNoisePass(photon_loss_rates=photon_loss_rate, circuit=circuit, time_unit=time_unit)\n",
    "\n",
    "# to see the loss and correction, add measurements and count up the results\n",
    "circuit.cv_measure(qmr[0], cr)\n",
    "\n",
    "# circuit.draw('mpl')\n",
    "\n",
    "counts = c2qa.util.simulate(circuit, noise_passes=noise_pass)[2] # returns a tuple of state, result, fock_counts\n",
    "\n",
    "visualization.plot_histogram(counts)"
   ],
   "id": "3e3fbb867738981",
   "outputs": [
    {
     "name": "stderr",
     "output_type": "stream",
     "text": [
      "/Users/benjamin/Code Projects/HvA/exploring-bosonic-qiskit-qec/c2qa/kraus.py:185: UserWarning: PhotonLossNoisePass ignores instructions without duration, you may need to schedule circuit in advance.\n",
      "  warnings.warn(\n",
      "/Users/benjamin/Code Projects/HvA/exploring-bosonic-qiskit-qec/.venv/lib/python3.12/site-packages/scipy/sparse/_index.py:108: SparseEfficiencyWarning: Changing the sparsity structure of a csc_matrix is expensive. lil_matrix is more efficient.\n",
      "  self._set_intXint(row, col, x.flat[0])\n"
     ]
    },
    {
     "data": {
      "text/plain": [
       "<Figure size 640x480 with 1 Axes>"
      ],
      "image/png": "[encoded data removed]"
     },
     "execution_count": 82,
     "metadata": {},
     "output_type": "execute_result"
    }
   ],
   "execution_count": 82
  }
 ],
 "metadata": {
  "kernelspec": {
   "display_name": "Python 3",
   "language": "python",
   "name": "python3"
  },
  "language_info": {
   "codemirror_mode": {
    "name": "ipython",
    "version": 2
   },
   "file_extension": ".py",
   "mimetype": "text/x-python",
   "name": "python",
   "nbconvert_exporter": "python",
   "pygments_lexer": "ipython2",
   "version": "2.7.6"
  }
 },
 "nbformat": 4,
 "nbformat_minor": 5
}
