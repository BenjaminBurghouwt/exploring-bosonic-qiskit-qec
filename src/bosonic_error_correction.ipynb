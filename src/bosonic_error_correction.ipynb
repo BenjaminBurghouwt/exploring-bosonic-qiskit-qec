{
 "cells": [
  {
   "metadata": {
    "ExecuteTime": {
     "end_time": "2024-06-05T12:35:14.287877Z",
     "start_time": "2024-06-05T12:35:13.039673Z"
    }
   },
   "cell_type": "code",
   "source": [
    "import c2qa\n",
    "import numpy as np\n",
    "from qiskit import ClassicalRegister, visualization, AncillaRegister\n",
    "from qiskit.quantum_info.operators.predicates import is_unitary_matrix\n",
    "from math import pi"
   ],
   "id": "133bcb28b32d417d",
   "outputs": [],
   "execution_count": 2
  },
  {
   "metadata": {},
   "cell_type": "markdown",
   "source": [
    "# Bosonic Error Correction\n",
    "\n"
   ],
   "id": "27f1073213372431"
  },
  {
   "metadata": {
    "ExecuteTime": {
     "end_time": "2024-06-05T12:37:39.263251Z",
     "start_time": "2024-06-05T12:37:39.065323Z"
    }
   },
   "cell_type": "code",
   "source": [
    "num_qumodes = 1\n",
    "num_qubits_per_qumode = 3\n",
    "\n",
    "photon_loss_rate = 0.5 # loss rate in units of 1/ms\n",
    "circuit_delay = 1 # large enough for on average 2 photons to be lost\n",
    "time_unit = \"ms\"\n",
    "\n",
    "qmr = c2qa.QumodeRegister(num_qumodes, num_qubits_per_qumode)\n",
    "cr = ClassicalRegister(num_qumodes * num_qubits_per_qumode)\n",
    "circuit = c2qa.CVCircuit(qmr, cr)\n",
    "\n",
    "# to illustrate photon loss, initialize the qumode in Fock state |7>\n",
    "circuit.cv_initialize(7, qmr[0])\n",
    "\n",
    "# apply a delay to illustrate the effect of photon loss\n",
    "circuit.cv_delay(duration=circuit_delay, unit=time_unit, qumode=qmr[0])\n",
    "\n",
    "noise_pass = c2qa.kraus.PhotonLossNoisePass(photon_loss_rates=photon_loss_rate, circuit=circuit, time_unit=time_unit)\n",
    "\n",
    "circuit.cv_measure(qmr[0], cr)\n",
    "\n",
    "# circuit.draw('mpl')\n",
    "\n",
    "counts = c2qa.util.simulate(circuit, noise_passes=noise_pass)[2] # Returns a tuple of state, result, fock_counts\n",
    "\n",
    "visualization.plot_histogram(counts)"
   ],
   "id": "14eec0a8e86eee06",
   "outputs": [
    {
     "name": "stderr",
     "output_type": "stream",
     "text": [
      "/Users/benjamin/Code Projects/HvA/exploring-bosonic-qiskit-qec/c2qa/kraus.py:185: UserWarning: PhotonLossNoisePass ignores instructions without duration, you may need to schedule circuit in advance.\n",
      "  warnings.warn(\n"
     ]
    },
    {
     "data": {
      "text/plain": [
       "<Figure size 640x480 with 1 Axes>"
      ],
      "image/png": "[encoded data removed]"
     },
     "execution_count": 11,
     "metadata": {},
     "output_type": "execute_result"
    }
   ],
   "execution_count": 11
  },
  {
   "metadata": {},
   "cell_type": "markdown",
   "source": "### bla",
   "id": "f3af03856419079"
  },
  {
   "metadata": {
    "ExecuteTime": {
     "end_time": "2024-06-05T12:37:40.707355Z",
     "start_time": "2024-06-05T12:37:40.676668Z"
    }
   },
   "cell_type": "code",
   "source": [
    "# Create new circuit with 1 qumode, 1 ancilla qubit, and 1 classical register for ancilla readout.\n",
    "qmr = c2qa.QumodeRegister(num_qumodes, num_qubits_per_qumode)\n",
    "anc = AncillaRegister(1)\n",
    "cr = ClassicalRegister(1)\n",
    "circ = c2qa.CVCircuit(qmr, anc, cr)\n",
    "\n",
    "circ.initialize([1, 0], anc[0]) # Initialize ancilla qubit in |0> (even) state\n",
    "\n",
    "# Initialize qumode in either odd parity or even parity Fock state\n",
    "# circ.cv_initialize(2, qmr) # |2> (even) Fock state\n",
    "circ.cv_initialize(3, qmr) # |3> (odd) Fock state\n",
    "\n",
    "circ.h(anc[0])\n",
    "\n",
    "circ.cv_c_r(pi/2, qmr[0], anc[0])\n",
    "circ.cv_r(-pi/2, qmr[0])\n",
    "\n",
    "circ.h(anc[0])\n",
    "circ.cv_measure(anc, cr)\n",
    "\n",
    "counts = c2qa.util.simulate(circ)[2]\n",
    "\n",
    "# Measurement will return 0 for even parity and 1 for odd parity\n",
    "print(counts)"
   ],
   "id": "64a86705cbcfb9e9",
   "outputs": [
    {
     "name": "stdout",
     "output_type": "stream",
     "text": [
      "{'1': 1024}\n"
     ]
    },
    {
     "name": "stderr",
     "output_type": "stream",
     "text": [
      "/Users/benjamin/Code Projects/HvA/exploring-bosonic-qiskit-qec/.venv/lib/python3.12/site-packages/scipy/sparse/_index.py:108: SparseEfficiencyWarning: Changing the sparsity structure of a csc_matrix is expensive. lil_matrix is more efficient.\n",
      "  self._set_intXint(row, col, x.flat[0])\n"
     ]
    }
   ],
   "execution_count": 12
  },
  {
   "metadata": {},
   "cell_type": "markdown",
   "source": "### bla",
   "id": "311085198113c518"
  },
  {
   "metadata": {
    "ExecuteTime": {
     "end_time": "2024-06-05T12:37:42.239735Z",
     "start_time": "2024-06-05T12:37:42.236334Z"
    }
   },
   "cell_type": "code",
   "source": [
    "empty = np.zeros((2**num_qubits_per_qumode, 2**num_qubits_per_qumode))\n",
    "\n",
    "# map logical 1's photon loss state |1> back to logical 1. (i.e. |2><1|, where fock_input = <1|, and fock_output = |2>)\n",
    "u_odd = c2qa.util.fockmap(matrix=empty, fock_input=[1], fock_output=[2]) \n",
    "\n",
    "# map logical 0's photon loss state |3> to logical 0 ((|0> + |4>)/sqrt(2))\n",
    "u_odd = c2qa.util.fockmap(u_odd, fock_input=[3, 3], fock_output=[0, 4], amplitude=[1/np.sqrt(2), 1/np.sqrt(2)]) \n",
    "\n",
    "# satisfy unitary condition\n",
    "u_odd = c2qa.util.fockmap(u_odd, [5, 6, 7], [5, 6, 7])\n",
    "u_odd = c2qa.util.fockmap(u_odd, [2, 0], [3, 1]) \n",
    "u_odd = c2qa.util.fockmap(u_odd, [4, 4], [0, 4], 1/np.sqrt(2) * np.array([1, -1]))\n",
    "\n",
    "assert(is_unitary_matrix(u_odd))\n",
    "\n",
    "def u_even(kt):\n",
    "    # map logical 1's error back to logical 1\n",
    "    u_even = c2qa.util.fockmap(empty, 2, 2) \n",
    "\n",
    "    # map logical 0's error state to logical 0\n",
    "    u_even = c2qa.util.fockmap(u_even, [0, 0, 4, 4], [0, 4, 0, 4], 1/np.sqrt(1 + kt**2) * np.array([1, kt, -kt, 1])) \n",
    "\n",
    "    # satisfy unitary condition\n",
    "    u_even = c2qa.util.fockmap(u_even, [1, 3, 5, 6, 7], [1, 3, 5, 6, 7]) \n",
    "\n",
    "    assert(is_unitary_matrix(u_even))\n",
    "    return u_even"
   ],
   "id": "65d306a0bfda6179",
   "outputs": [],
   "execution_count": 13
  },
  {
   "metadata": {},
   "cell_type": "markdown",
   "source": "### bla",
   "id": "b109e5542dd61ec4"
  },
  {
   "metadata": {
    "ExecuteTime": {
     "end_time": "2024-06-05T12:37:43.203547Z",
     "start_time": "2024-06-05T12:37:43.182943Z"
    }
   },
   "cell_type": "code",
   "source": [
    "# Initialize new circuit \n",
    "qmr = c2qa.QumodeRegister(num_qumodes, num_qubits_per_qumode)\n",
    "cr = ClassicalRegister(num_qumodes * num_qubits_per_qumode)\n",
    "circ = c2qa.CVCircuit(qmr, cr)\n",
    "\n",
    "# Initialize qumode in |1_L> error state\n",
    "circ.cv_initialize([0, 1], qmr) # (0 * |0> + 1 * |1>) = |1>\n",
    "\n",
    "# Append the u_odd matrix to circuit and measure\n",
    "circ.cv_gate_from_matrix(u_odd, qmr[0])\n",
    "circ.cv_measure(qmr[0], cr)\n",
    "\n",
    "counts = c2qa.util.simulate(circ)[2]\n",
    "\n",
    "# We measure |2> Fock state, demonstrating recovery of the logical 1 state\n",
    "print(counts)"
   ],
   "id": "d588c4876c554fb1",
   "outputs": [
    {
     "name": "stdout",
     "output_type": "stream",
     "text": [
      "{'2': 1024}\n"
     ]
    }
   ],
   "execution_count": 14
  },
  {
   "metadata": {},
   "cell_type": "markdown",
   "source": "# -this-",
   "id": "1438a2fdd586b578"
  },
  {
   "metadata": {
    "ExecuteTime": {
     "end_time": "2024-06-05T13:37:59.100138Z",
     "start_time": "2024-06-05T13:37:58.364877Z"
    }
   },
   "cell_type": "code",
   "source": [
    "num_qumodes = 1\n",
    "num_qubits_per_qumode = 3\n",
    "\n",
    "photon_loss_rate = 0.5 # loss rate in units of 1/ms\n",
    "circuit_delay = 0.5\n",
    "time_unit = \"ms\"\n",
    "\n",
    "# create circuit\n",
    "qmr = c2qa.QumodeRegister(num_qumodes, num_qubits_per_qumode)\n",
    "anc = AncillaRegister(1)\n",
    "cr = ClassicalRegister(num_qumodes * num_qubits_per_qumode + 1)\n",
    "circuit = c2qa.CVCircuit(qmr, anc, cr)\n",
    "\n",
    "\n",
    "def do_error_correction(circuit):\n",
    "    # photon parity measurement\n",
    "    circuit.h(anc[0])\n",
    "    circuit.cv_c_r(pi/2, qmr[0], anc[0])\n",
    "    \n",
    "    circuit.cv_r(-pi/2, qmr[0])\n",
    "    \n",
    "    circuit.h(anc[0])\n",
    "    circuit.measure(anc[0], cr[0])\n",
    "            \n",
    "    kt_dur = circuit_delay # time since previous error correction\n",
    "    kt = photon_loss_rate * (kt_dur + 3)\n",
    "            \n",
    "    with circuit.if_test((cr[0], 1), label='Recovery op') as else_:\n",
    "        circuit.cv_gate_from_matrix(u_odd, qmr[0], duration=0.1, unit=\"ns\")\n",
    "        circuit.reset(anc[0])\n",
    "    with else_:\n",
    "        circuit.cv_gate_from_matrix(u_even(kt), qmr[0], duration=0.1, unit=\"ns\")\n",
    "    \n",
    "\n",
    "# initialize ancilla qubit in even |0> or odd |1> state\n",
    "circuit.initialize(1, anc[0]) \n",
    "# initialize qumode in Fock state even or odd\n",
    "circuit.cv_initialize(3, qmr[0])\n",
    "\n",
    "# apply a delay to illustrate the effect of photon loss\n",
    "circuit.cv_delay(duration=circuit_delay, unit=time_unit, qumode=qmr[0])\n",
    "\n",
    "# apply error correction\n",
    "do_error_correction(circuit)\n",
    "\n",
    "noise_pass = c2qa.kraus.PhotonLossNoisePass(photon_loss_rates=photon_loss_rate, circuit=circuit, time_unit=time_unit)\n",
    "\n",
    "# to see the loss and correction, add measurements and count up the results\n",
    "circuit.cv_measure(qmr[0], cr)\n",
    "\n",
    "# circuit.draw('mpl')\n",
    "\n",
    "counts = c2qa.util.simulate(circuit, noise_passes=noise_pass)[2] # Returns a tuple of state, result, fock_counts\n",
    "\n",
    "visualization.plot_histogram(counts)"
   ],
   "id": "3e3fbb867738981",
   "outputs": [
    {
     "name": "stderr",
     "output_type": "stream",
     "text": [
      "/Users/benjamin/Code Projects/HvA/exploring-bosonic-qiskit-qec/c2qa/kraus.py:185: UserWarning: PhotonLossNoisePass ignores instructions without duration, you may need to schedule circuit in advance.\n",
      "  warnings.warn(\n",
      "/Users/benjamin/Code Projects/HvA/exploring-bosonic-qiskit-qec/.venv/lib/python3.12/site-packages/scipy/sparse/_index.py:108: SparseEfficiencyWarning: Changing the sparsity structure of a csc_matrix is expensive. lil_matrix is more efficient.\n",
      "  self._set_intXint(row, col, x.flat[0])\n"
     ]
    },
    {
     "data": {
      "text/plain": [
       "<Figure size 640x480 with 1 Axes>"
      ],
      "image/png": "[encoded data removed]"
     },
     "execution_count": 18,
     "metadata": {},
     "output_type": "execute_result"
    }
   ],
   "execution_count": 18
  },
  {
   "metadata": {
    "ExecuteTime": {
     "end_time": "2024-06-03T20:27:25.883070Z",
     "start_time": "2024-06-03T20:27:25.881103Z"
    }
   },
   "cell_type": "code",
   "source": "",
   "id": "5749b7ad6ebc3de7",
   "outputs": [],
   "execution_count": 127
  }
 ],
 "metadata": {
  "kernelspec": {
   "display_name": "Python 3",
   "language": "python",
   "name": "python3"
  },
  "language_info": {
   "codemirror_mode": {
    "name": "ipython",
    "version": 2
   },
   "file_extension": ".py",
   "mimetype": "text/x-python",
   "name": "python",
   "nbconvert_exporter": "python",
   "pygments_lexer": "ipython2",
   "version": "2.7.6"
  }
 },
 "nbformat": 4,
 "nbformat_minor": 5
}
